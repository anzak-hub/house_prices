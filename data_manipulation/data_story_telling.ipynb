{
 "cells": [
  {
   "cell_type": "code",
   "execution_count": 1,
   "id": "f8fb0330",
   "metadata": {},
   "outputs": [
    {
     "name": "stderr",
     "output_type": "stream",
     "text": [
      "c:\\Users\\akhma\\Desktop\\Project\\.project\\Lib\\site-packages\\tqdm\\auto.py:21: TqdmWarning: IProgress not found. Please update jupyter and ipywidgets. See https://ipywidgets.readthedocs.io/en/stable/user_install.html\n",
      "  from .autonotebook import tqdm as notebook_tqdm\n"
     ]
    }
   ],
   "source": [
    "import  pandas as pd \n",
    "\n",
    "import sys \n",
    "import numpy as np\n",
    "\n",
    "import missingno as msno\n",
    "\n",
    "from sklearn.model_selection import train_test_split\n",
    "from sklearn.datasets import make_classification\n",
    "from sklearn.model_selection import train_test_split\n",
    "from sklearn.ensemble import RandomForestRegressor\n",
    "\n",
    "from catboost import CatBoostRegressor\n",
    "\n",
    "import shap\n",
    "\n",
    "import seaborn as sns \n",
    "import matplotlib.pyplot as plt\n",
    "\n",
    "%matplotlib inline\n",
    "\n"
   ]
  },
  {
   "cell_type": "code",
   "execution_count": 5,
   "id": "ad665392",
   "metadata": {},
   "outputs": [
    {
     "name": "stdout",
     "output_type": "stream",
     "text": [
      "      LotArea  YearBuilt  YearRemodAdd  BsmtFinSF1  TotalBsmtSF  GrLivArea  \\\n",
      "0        8450       2003          2003         706          856       1710   \n",
      "1        9600       1976          1976         978         1262       1262   \n",
      "2       11250       2001          2002         486          920       1786   \n",
      "3        9550       1915          1970         216          756       1717   \n",
      "4       14260       2000          2000         655         1145       2198   \n",
      "...       ...        ...           ...         ...          ...        ...   \n",
      "1455     7917       1999          2000           0          953       1647   \n",
      "1456    13175       1978          1988         790         1542       2073   \n",
      "1457     9042       1941          2006         275         1152       2340   \n",
      "1458     9717       1950          1996          49         1078       1078   \n",
      "1459     9937       1965          1965         830         1256       1256   \n",
      "\n",
      "      Fireplaces  GarageCars  TotalFlrSF  TotalFullBath KitchenQual ExterQual  \\\n",
      "0              0           2        1710              3          Gd        Gd   \n",
      "1              1           2        1262              2          TA        TA   \n",
      "2              1           2        1786              3          Gd        Gd   \n",
      "3              1           3        1717              2          Gd        TA   \n",
      "4              1           3        2198              3          Gd        Gd   \n",
      "...          ...         ...         ...            ...         ...       ...   \n",
      "1455           1           2        1647              2          TA        TA   \n",
      "1456           2           2        2073              3          TA        TA   \n",
      "1457           2           1        2340              2          Gd        Ex   \n",
      "1458           0           1        1078              2          Gd        TA   \n",
      "1459           0           1        1256              2          TA        Gd   \n",
      "\n",
      "     LandContour GarageFinish BsmtQual OverallQual MSZoning Neighborhood  \\\n",
      "0            Lvl          RFn       Gd           7       RL      CollgCr   \n",
      "1            Lvl          RFn       Gd           6       RL      Veenker   \n",
      "2            Lvl          RFn       Gd           7       RL      CollgCr   \n",
      "3            Lvl          Unf       TA           7       RL      Crawfor   \n",
      "4            Lvl          RFn       Gd           8       RL      NoRidge   \n",
      "...          ...          ...      ...         ...      ...          ...   \n",
      "1455         Lvl          RFn       Gd           6       RL      Gilbert   \n",
      "1456         Lvl          Unf       Gd           6       RL       NWAmes   \n",
      "1457         Lvl          RFn       TA           7       RL      Crawfor   \n",
      "1458         Lvl          Unf       TA           5       RL        NAmes   \n",
      "1459         Lvl          Fin       TA           5       RL      Edwards   \n",
      "\n",
      "     FireplaceQu  SalePrice  \n",
      "0             NA     208500  \n",
      "1             TA     181500  \n",
      "2             TA     223500  \n",
      "3             Gd     140000  \n",
      "4             TA     250000  \n",
      "...          ...        ...  \n",
      "1455          TA     175000  \n",
      "1456          TA     210000  \n",
      "1457          Gd     266500  \n",
      "1458          NA     142125  \n",
      "1459          NA     147500  \n",
      "\n",
      "[1459 rows x 20 columns]\n"
     ]
    }
   ],
   "source": [
    "# Read the cleaned DataFrame with selected features saved in data_manipulation module\n",
    "%store -r df_train\n",
    "\n",
    "print(df_train)"
   ]
  },
  {
   "cell_type": "code",
   "execution_count": null,
   "id": "73b4268f",
   "metadata": {},
   "outputs": [],
   "source": [
    "# Save data to .csv file so that PowerBI can use it\n",
    "df_train.to_csv('../data/train_cleaned.csv', index=False)\n"
   ]
  },
  {
   "cell_type": "code",
   "execution_count": null,
   "id": "5c8746fb",
   "metadata": {},
   "outputs": [],
   "source": []
  },
  {
   "cell_type": "code",
   "execution_count": null,
   "id": "ed8fc18b",
   "metadata": {},
   "outputs": [],
   "source": []
  }
 ],
 "metadata": {
  "kernelspec": {
   "display_name": ".project (3.13.1)",
   "language": "python",
   "name": "python3"
  },
  "language_info": {
   "codemirror_mode": {
    "name": "ipython",
    "version": 3
   },
   "file_extension": ".py",
   "mimetype": "text/x-python",
   "name": "python",
   "nbconvert_exporter": "python",
   "pygments_lexer": "ipython3",
   "version": "3.13.1"
  }
 },
 "nbformat": 4,
 "nbformat_minor": 5
}
