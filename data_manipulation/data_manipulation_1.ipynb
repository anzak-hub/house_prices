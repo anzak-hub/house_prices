{
 "cells": [
  {
   "cell_type": "code",
   "execution_count": 3,
   "id": "f8fb0330",
   "metadata": {},
   "outputs": [],
   "source": [
    "import  pandas as pd \n",
    "\n",
    "import numpy as np\n",
    "\n",
    "from sklearn.model_selection import train_test_split\n",
    "from sklearn.datasets import make_classification\n",
    "from sklearn.model_selection import train_test_split\n",
    "from sklearn.ensemble import RandomForestRegressor\n",
    "from sklearn.metrics import accuracy_score\n",
    "\n",
    "from catboost import CatBoostClassifier\n",
    "\n",
    "import shap\n",
    "\n",
    "import seaborn as sns \n",
    "import matplotlib.pyplot as plt\n",
    "%matplotlib inline\n",
    "\n"
   ]
  },
  {
   "cell_type": "code",
   "execution_count": 2,
   "id": "ad665392",
   "metadata": {},
   "outputs": [
    {
     "name": "stdout",
     "output_type": "stream",
     "text": [
      "      OverallQual  GarageArea  FullBath  YearBuilt  GarageCars  TotRmsAbvGrd  \\\n",
      "0               7         548         2       2003           2             8   \n",
      "1               6         460         2       1976           2             6   \n",
      "2               7         608         2       2001           2             6   \n",
      "3               7         642         1       1915           3             7   \n",
      "4               8         836         2       2000           3             9   \n",
      "...           ...         ...       ...        ...         ...           ...   \n",
      "1454            6         460         2       1999           2             7   \n",
      "1455            6         500         2       1978           2             7   \n",
      "1456            7         252         2       1941           1             9   \n",
      "1457            5         240         1       1950           1             5   \n",
      "1458            5         276         1       1965           1             6   \n",
      "\n",
      "      TotalBsmtSF  YearRemodAdd  1stFlrSF  GrLivArea ExterQual FireplaceQu  \\\n",
      "0             856          2003       856       1710        Gd         NaN   \n",
      "1            1262          1976      1262       1262        TA          TA   \n",
      "2             920          2002       920       1786        Gd          TA   \n",
      "3             756          1970       961       1717        TA          Gd   \n",
      "4            1145          2000      1145       2198        Gd          TA   \n",
      "...           ...           ...       ...        ...       ...         ...   \n",
      "1454          953          2000       953       1647        TA          TA   \n",
      "1455         1542          1988      2073       2073        TA          TA   \n",
      "1456         1152          2006      1188       2340        Ex          Gd   \n",
      "1457         1078          1996      1078       1078        TA         NaN   \n",
      "1458         1256          1965      1256       1256        Gd         NaN   \n",
      "\n",
      "     MSZoning Alley GarageCond SaleCondition LandSlope BsmtFinType2  \n",
      "0          RL   NaN         TA        Normal       Gtl          Unf  \n",
      "1          RL   NaN         TA        Normal       Gtl          Unf  \n",
      "2          RL   NaN         TA        Normal       Gtl          Unf  \n",
      "3          RL   NaN         TA       Abnorml       Gtl          Unf  \n",
      "4          RL   NaN         TA        Normal       Gtl          Unf  \n",
      "...       ...   ...        ...           ...       ...          ...  \n",
      "1454       RL   NaN         TA        Normal       Gtl          NaN  \n",
      "1455       RL   NaN         TA        Normal       Gtl          Rec  \n",
      "1456       RL   NaN         TA        Normal       Gtl          Unf  \n",
      "1457       RL   NaN         TA        Normal       Gtl          Rec  \n",
      "1458       RL   NaN         TA        Normal       Gtl          LwQ  \n",
      "\n",
      "[1459 rows x 18 columns]\n"
     ]
    }
   ],
   "source": [
    "df = pd.read_csv(\"../data/train_cleaned.csv\")\n",
    "print(df)"
   ]
  },
  {
   "cell_type": "code",
   "execution_count": null,
   "id": "bca43001",
   "metadata": {},
   "outputs": [],
   "source": [
    "\n",
    "\n",
    "\n",
    "\n",
    " #df is your dataframe\n",
    "df.to_csv(\"output.csv\", sep=',', encoding='utf-8', index=False) #df is your dataframe\n",
    "df.to_csv(\"output.csv\", sep=',', encoding='utf-8', index=False)"
   ]
  }
 ],
 "metadata": {
  "kernelspec": {
   "display_name": ".project",
   "language": "python",
   "name": "python3"
  },
  "language_info": {
   "codemirror_mode": {
    "name": "ipython",
    "version": 3
   },
   "file_extension": ".py",
   "mimetype": "text/x-python",
   "name": "python",
   "nbconvert_exporter": "python",
   "pygments_lexer": "ipython3",
   "version": "3.13.1"
  }
 },
 "nbformat": 4,
 "nbformat_minor": 5
}
